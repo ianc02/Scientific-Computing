{
 "cells": [
  {
   "cell_type": "markdown",
   "metadata": {},
   "source": [
    "# System Dynamics of Malaria"
   ]
  },
  {
   "cell_type": "markdown",
   "metadata": {},
   "source": [
    "According to the CDCs [website](https://www.cdc.gov/malaria/about/biology/index.html), the lifecycle of the malaria parasite can be summarized to:\n",
    "* An anopheles mosquito bites a human, transferring the parasite\n",
    "* The parasite infects liver cells where it will grow\n",
    "* Once mature, these will rupture and release into red blood cells where they will reproduce asexually\n",
    "* Some will turn into gametocytes and while in the blood stream, can be ingested by another Anopheles mosquito.\n",
    "* These gametocytes will reproduce in the mosquitos stomach and produce thousands of parasites\n",
    "* These parasites will make way to the mosquitos salvitory glands where they can be injected in a human, starting the cycle over"
   ]
  },
  {
   "cell_type": "markdown",
   "metadata": {},
   "source": [
    "It is important to know that the malaria developing in the liver cells take a few days to mature, but can also lay dormant for up to several years after infecting its host. It can also take 10-18 days for gametocytes to reproduce and for the parasites to travel to the mosquitos salvitory glands."
   ]
  },
  {
   "cell_type": "markdown",
   "metadata": {},
   "source": [
    "Other helpful recourses included:\n",
    "* [This](https://www.youtube.com/watch?v=0uyE046It3o) video regarding an overview of the entire lifecycle\n",
    "* [This](https://www.youtube.com/watch?v=Xaxjg9JOxug) video that gave a more specific showing of the in-human lifecycle"
   ]
  },
  {
   "attachments": {},
   "cell_type": "markdown",
   "metadata": {},
   "source": []
  },
  {
   "cell_type": "code",
   "execution_count": null,
   "metadata": {},
   "outputs": [],
   "source": []
  },
  {
   "cell_type": "code",
   "execution_count": null,
   "metadata": {},
   "outputs": [],
   "source": []
  }
 ],
 "metadata": {
  "kernelspec": {
   "display_name": "Python 3",
   "language": "python",
   "name": "python3"
  },
  "language_info": {
   "codemirror_mode": {
    "name": "ipython",
    "version": 3
   },
   "file_extension": ".py",
   "mimetype": "text/x-python",
   "name": "python",
   "nbconvert_exporter": "python",
   "pygments_lexer": "ipython3",
   "version": "3.7.7"
  }
 },
 "nbformat": 4,
 "nbformat_minor": 4
}
