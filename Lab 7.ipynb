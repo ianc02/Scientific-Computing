{
 "cells": [
  {
   "cell_type": "code",
   "execution_count": 1,
   "metadata": {},
   "outputs": [],
   "source": [
    "import numpy as np\n",
    "\n",
    "import matplotlib.pyplot as plt\n",
    "from plotnine import * \n",
    "import pandas as pd\n",
    "%matplotlib inline\n",
    "\n",
    "from mesa import Model, Agent\n",
    "from mesa.time import RandomActivation\n",
    "from mesa.space import Grid\n",
    "from mesa.datacollection import DataCollector\n",
    "from mesa.batchrunner import BatchRunner"
   ]
  },
  {
   "cell_type": "markdown",
   "metadata": {},
   "source": [
    "# Step 1"
   ]
  },
  {
   "cell_type": "code",
   "execution_count": 2,
   "metadata": {},
   "outputs": [],
   "source": [
    "class TreeCell(Agent):\n",
    "    '''\n",
    "    A tree cell.\n",
    "    \n",
    "    Attributes:\n",
    "        x, y: Grid coordinates\n",
    "        condition: Can be \"Fine\", \"On Fire\", or \"Burned Out\"\n",
    "        unique_id: (x,y) tuple. \n",
    "    \n",
    "    unique_id isn't strictly necessary here, but it's good practice to give one to each\n",
    "    agent anyway.\n",
    "    '''\n",
    "    def __init__(self, model, pos):\n",
    "        '''\n",
    "        Create a new tree.\n",
    "        Args:\n",
    "            pos: The tree's coordinates on the grid. Used as the unique_id\n",
    "        '''\n",
    "        super().__init__(pos, model)\n",
    "        self.pos = pos\n",
    "        self.unique_id = pos\n",
    "        self.condition = \"Empty\"\n",
    "        self.decay_time = 0\n",
    "        self.lifetime = 0\n",
    "        \n",
    "    def step(self):\n",
    "        '''\n",
    "        If the tree is on fire, spread it to fine trees nearby.\n",
    "        '''\n",
    "        if self.condition == \"On Fire\":\n",
    "            neighbors = self.model.grid.get_neighbors(self.pos, moore=False)\n",
    "            for neighbor in neighbors:\n",
    "                if neighbor.condition == \"Fine\":\n",
    "                    neighbor.condition = \"On Fire\"\n",
    "            self.condition = \"Burned Out\"\n",
    "        if self.condition==\"Burned Out\":\n",
    "            if self.decay_time == self.model.decay_time:\n",
    "                self.condition=\"Empty\"\n",
    "            self.decay_time+=1\n",
    "        if self.condition == \"Fine\" and self.lifetime == self.model.lifetime:\n",
    "            neighbors = self.model.grid.get_neighbors(self.pos, moore=False)\n",
    "            for neighbor in neighbors:\n",
    "                if neighbor.condition == \"Empty\":\n",
    "                    neighbor.condition=\"Fine\"\n",
    "                    neighbor.lifetime = 0\n",
    "                    self.condition = \"Empty\"\n",
    "        self.lifetime+=1"
   ]
  },
  {
   "cell_type": "code",
   "execution_count": 3,
   "metadata": {},
   "outputs": [],
   "source": [
    "class ForestFire(Model):\n",
    "    '''\n",
    "    Simple Forest Fire model.\n",
    "    '''\n",
    "    def __init__(self, height, width, density, decay_time, lifetime):\n",
    "        '''\n",
    "        Create a new forest fire model.\n",
    "        \n",
    "        Args:\n",
    "            height, width: The size of the grid to model\n",
    "            density: What fraction of grid cells have a tree in them.\n",
    "        '''\n",
    "        # Initialize model parameters\n",
    "        self.height = height\n",
    "        self.width = width\n",
    "        self.density = density\n",
    "        self.decay_time = decay_time\n",
    "        self.lifetime = lifetime\n",
    "        \n",
    "        # Set up model objects\n",
    "        self.schedule = RandomActivation(self)\n",
    "        self.grid = Grid(height, width, torus=False)\n",
    "        self.dc = DataCollector({\"Fine\": lambda m: self.count_type(m, \"Fine\"),\n",
    "                                \"On Fire\": lambda m: self.count_type(m, \"On Fire\"),\n",
    "                                \"Burned Out\": lambda m: self.count_type(m, \"Burned Out\"),\n",
    "                                \"Empty\": lambda m: self.count_type(m, \"Empty\")})\n",
    "        \n",
    "        # Place a tree in each cell with Prob = density\n",
    "        for x in range(self.width):\n",
    "            for y in range(self.height):\n",
    "                new_tree = TreeCell(self, (x, y))\n",
    "                if self.random.random() < self.density:\n",
    "                    # Create a tree\n",
    "                    new_tree.condition = \"Fine\"\n",
    "                    # Set all trees in the first column on fire.\n",
    "                    if x == 0:\n",
    "                        new_tree.condition = \"On Fire\"\n",
    "                    self.grid[y][x] = new_tree\n",
    "                    self.schedule.add(new_tree)\n",
    "        self.running = True\n",
    "        \n",
    "    def step(self):\n",
    "        '''\n",
    "        Advance the model by one step.\n",
    "        '''\n",
    "        self.schedule.step()\n",
    "        self.dc.collect(self)\n",
    "        # Halt if no more fire\n",
    "        if self.schedule.time > 200:\n",
    "            self.running = False\n",
    "    \n",
    "    @staticmethod\n",
    "    def count_type(model, tree_condition):\n",
    "        '''\n",
    "        Helper method to count trees in a given condition in a given model.\n",
    "        '''\n",
    "        count = 0\n",
    "        for tree in model.schedule.agents:\n",
    "            if tree.condition == tree_condition:\n",
    "                count += 1\n",
    "        return count"
   ]
  },
  {
   "cell_type": "code",
   "execution_count": 4,
   "metadata": {},
   "outputs": [],
   "source": [
    "fire = ForestFire(100, 100, 0.6, 10, 10)"
   ]
  },
  {
   "cell_type": "code",
   "execution_count": 5,
   "metadata": {},
   "outputs": [],
   "source": [
    "fire.run_model()"
   ]
  },
  {
   "cell_type": "code",
   "execution_count": 6,
   "metadata": {},
   "outputs": [
    {
     "data": {
      "text/html": [
       "<div>\n",
       "<style scoped>\n",
       "    .dataframe tbody tr th:only-of-type {\n",
       "        vertical-align: middle;\n",
       "    }\n",
       "\n",
       "    .dataframe tbody tr th {\n",
       "        vertical-align: top;\n",
       "    }\n",
       "\n",
       "    .dataframe thead th {\n",
       "        text-align: right;\n",
       "    }\n",
       "</style>\n",
       "<table border=\"1\" class=\"dataframe\">\n",
       "  <thead>\n",
       "    <tr style=\"text-align: right;\">\n",
       "      <th></th>\n",
       "      <th>Fine</th>\n",
       "      <th>On Fire</th>\n",
       "      <th>Burned Out</th>\n",
       "      <th>Empty</th>\n",
       "    </tr>\n",
       "  </thead>\n",
       "  <tbody>\n",
       "    <tr>\n",
       "      <th>0</th>\n",
       "      <td>5830</td>\n",
       "      <td>74</td>\n",
       "      <td>129</td>\n",
       "      <td>0</td>\n",
       "    </tr>\n",
       "    <tr>\n",
       "      <th>1</th>\n",
       "      <td>5702</td>\n",
       "      <td>60</td>\n",
       "      <td>271</td>\n",
       "      <td>0</td>\n",
       "    </tr>\n",
       "    <tr>\n",
       "      <th>2</th>\n",
       "      <td>5589</td>\n",
       "      <td>53</td>\n",
       "      <td>391</td>\n",
       "      <td>0</td>\n",
       "    </tr>\n",
       "    <tr>\n",
       "      <th>3</th>\n",
       "      <td>5476</td>\n",
       "      <td>66</td>\n",
       "      <td>491</td>\n",
       "      <td>0</td>\n",
       "    </tr>\n",
       "    <tr>\n",
       "      <th>4</th>\n",
       "      <td>5370</td>\n",
       "      <td>52</td>\n",
       "      <td>611</td>\n",
       "      <td>0</td>\n",
       "    </tr>\n",
       "    <tr>\n",
       "      <th>...</th>\n",
       "      <td>...</td>\n",
       "      <td>...</td>\n",
       "      <td>...</td>\n",
       "      <td>...</td>\n",
       "    </tr>\n",
       "    <tr>\n",
       "      <th>196</th>\n",
       "      <td>2119</td>\n",
       "      <td>0</td>\n",
       "      <td>0</td>\n",
       "      <td>3914</td>\n",
       "    </tr>\n",
       "    <tr>\n",
       "      <th>197</th>\n",
       "      <td>2119</td>\n",
       "      <td>0</td>\n",
       "      <td>0</td>\n",
       "      <td>3914</td>\n",
       "    </tr>\n",
       "    <tr>\n",
       "      <th>198</th>\n",
       "      <td>2119</td>\n",
       "      <td>0</td>\n",
       "      <td>0</td>\n",
       "      <td>3914</td>\n",
       "    </tr>\n",
       "    <tr>\n",
       "      <th>199</th>\n",
       "      <td>2119</td>\n",
       "      <td>0</td>\n",
       "      <td>0</td>\n",
       "      <td>3914</td>\n",
       "    </tr>\n",
       "    <tr>\n",
       "      <th>200</th>\n",
       "      <td>2119</td>\n",
       "      <td>0</td>\n",
       "      <td>0</td>\n",
       "      <td>3914</td>\n",
       "    </tr>\n",
       "  </tbody>\n",
       "</table>\n",
       "<p>201 rows × 4 columns</p>\n",
       "</div>"
      ],
      "text/plain": [
       "     Fine  On Fire  Burned Out  Empty\n",
       "0    5830       74         129      0\n",
       "1    5702       60         271      0\n",
       "2    5589       53         391      0\n",
       "3    5476       66         491      0\n",
       "4    5370       52         611      0\n",
       "..    ...      ...         ...    ...\n",
       "196  2119        0           0   3914\n",
       "197  2119        0           0   3914\n",
       "198  2119        0           0   3914\n",
       "199  2119        0           0   3914\n",
       "200  2119        0           0   3914\n",
       "\n",
       "[201 rows x 4 columns]"
      ]
     },
     "execution_count": 6,
     "metadata": {},
     "output_type": "execute_result"
    }
   ],
   "source": [
    "results = fire.dc.get_model_vars_dataframe()\n",
    "results"
   ]
  },
  {
   "cell_type": "code",
   "execution_count": 7,
   "metadata": {},
   "outputs": [
    {
     "data": {
      "image/png": "[encoded data removed]",
      "text/plain": [
       "<Figure size 640x480 with 1 Axes>"
      ]
     },
     "metadata": {},
     "output_type": "display_data"
    },
    {
     "data": {
      "text/plain": [
       "<ggplot: (-9223371914586013800)>"
      ]
     },
     "execution_count": 7,
     "metadata": {},
     "output_type": "execute_result"
    }
   ],
   "source": [
    "results[\"time\"] = np.linspace(0, len(results) - 1, len(results))\n",
    "resultsmelt = pd.melt(results, id_vars=[\"time\"], value_vars=[\"Fine\", \"On Fire\", \"Burned Out\", \"Empty\"])\n",
    "ggplot(resultsmelt, aes(x=\"time\", y=\"value\", color=\"variable\")) \\\n",
    "+ geom_line()"
   ]
  },
  {
   "cell_type": "markdown",
   "metadata": {},
   "source": [
    "# Batch Runs"
   ]
  },
  {
   "cell_type": "code",
   "execution_count": 8,
   "metadata": {},
   "outputs": [],
   "source": [
    "fixed_params = dict(height=50,width=50)\n",
    "variable_params = dict(decay_time=np.linspace(0,60,2)[1:])"
   ]
  },
  {
   "cell_type": "code",
   "execution_count": 9,
   "metadata": {},
   "outputs": [],
   "source": [
    "model_reporter = {\"Fine\": lambda m: (ForestFire.count_type(m, \"Fine\") / \n",
    "                                          m.schedule.get_agent_count()) }"
   ]
  },
  {
   "cell_type": "code",
   "execution_count": 10,
   "metadata": {},
   "outputs": [],
   "source": [
    "param_run = BatchRunner(ForestFire, variable_parameters=variable_params, \n",
    "                        fixed_parameters=fixed_params, model_reporters=model_reporter)"
   ]
  },
  {
   "cell_type": "code",
   "execution_count": 11,
   "metadata": {},
   "outputs": [
    {
     "name": "stderr",
     "output_type": "stream",
     "text": [
      "0it [00:00, ?it/s]\n"
     ]
    },
    {
     "ename": "TypeError",
     "evalue": "__init__() missing 2 required positional arguments: 'density' and 'lifetime'",
     "output_type": "error",
     "traceback": [
      "\u001b[1;31m---------------------------------------------------------------------------\u001b[0m",
      "\u001b[1;31mTypeError\u001b[0m                                 Traceback (most recent call last)",
      "\u001b[1;32m<ipython-input-11-69fdf84a6fbd>\u001b[0m in \u001b[0;36m<module>\u001b[1;34m\u001b[0m\n\u001b[1;32m----> 1\u001b[1;33m \u001b[0mparam_run\u001b[0m\u001b[1;33m.\u001b[0m\u001b[0mrun_all\u001b[0m\u001b[1;33m(\u001b[0m\u001b[1;33m)\u001b[0m\u001b[1;33m\u001b[0m\u001b[1;33m\u001b[0m\u001b[0m\n\u001b[0m",
      "\u001b[1;32m~\\Anaconda3\\lib\\site-packages\\mesa\\batchrunner.py\u001b[0m in \u001b[0;36mrun_all\u001b[1;34m(self)\u001b[0m\n\u001b[0;32m    156\u001b[0m                 \u001b[0mparam_values\u001b[0m \u001b[1;33m=\u001b[0m \u001b[0mall_param_values\u001b[0m\u001b[1;33m[\u001b[0m\u001b[0mi\u001b[0m\u001b[1;33m]\u001b[0m\u001b[1;33m\u001b[0m\u001b[1;33m\u001b[0m\u001b[0m\n\u001b[0;32m    157\u001b[0m                 \u001b[1;32mfor\u001b[0m \u001b[0m_\u001b[0m \u001b[1;32min\u001b[0m \u001b[0mrange\u001b[0m\u001b[1;33m(\u001b[0m\u001b[0mself\u001b[0m\u001b[1;33m.\u001b[0m\u001b[0miterations\u001b[0m\u001b[1;33m)\u001b[0m\u001b[1;33m:\u001b[0m\u001b[1;33m\u001b[0m\u001b[1;33m\u001b[0m\u001b[0m\n\u001b[1;32m--> 158\u001b[1;33m                     \u001b[0mself\u001b[0m\u001b[1;33m.\u001b[0m\u001b[0mrun_iteration\u001b[0m\u001b[1;33m(\u001b[0m\u001b[0mkwargs\u001b[0m\u001b[1;33m,\u001b[0m \u001b[0mparam_values\u001b[0m\u001b[1;33m,\u001b[0m \u001b[0mnext\u001b[0m\u001b[1;33m(\u001b[0m\u001b[0mrun_count\u001b[0m\u001b[1;33m)\u001b[0m\u001b[1;33m)\u001b[0m\u001b[1;33m\u001b[0m\u001b[1;33m\u001b[0m\u001b[0m\n\u001b[0m\u001b[0;32m    159\u001b[0m                     \u001b[0mpbar\u001b[0m\u001b[1;33m.\u001b[0m\u001b[0mupdate\u001b[0m\u001b[1;33m(\u001b[0m\u001b[1;33m)\u001b[0m\u001b[1;33m\u001b[0m\u001b[1;33m\u001b[0m\u001b[0m\n\u001b[0;32m    160\u001b[0m \u001b[1;33m\u001b[0m\u001b[0m\n",
      "\u001b[1;32m~\\Anaconda3\\lib\\site-packages\\mesa\\batchrunner.py\u001b[0m in \u001b[0;36mrun_iteration\u001b[1;34m(self, kwargs, param_values, run_count)\u001b[0m\n\u001b[0;32m    161\u001b[0m     \u001b[1;32mdef\u001b[0m \u001b[0mrun_iteration\u001b[0m\u001b[1;33m(\u001b[0m\u001b[0mself\u001b[0m\u001b[1;33m,\u001b[0m \u001b[0mkwargs\u001b[0m\u001b[1;33m,\u001b[0m \u001b[0mparam_values\u001b[0m\u001b[1;33m,\u001b[0m \u001b[0mrun_count\u001b[0m\u001b[1;33m)\u001b[0m\u001b[1;33m:\u001b[0m\u001b[1;33m\u001b[0m\u001b[1;33m\u001b[0m\u001b[0m\n\u001b[0;32m    162\u001b[0m         \u001b[0mkwargscopy\u001b[0m \u001b[1;33m=\u001b[0m \u001b[0mcopy\u001b[0m\u001b[1;33m.\u001b[0m\u001b[0mdeepcopy\u001b[0m\u001b[1;33m(\u001b[0m\u001b[0mkwargs\u001b[0m\u001b[1;33m)\u001b[0m\u001b[1;33m\u001b[0m\u001b[1;33m\u001b[0m\u001b[0m\n\u001b[1;32m--> 163\u001b[1;33m         \u001b[0mmodel\u001b[0m \u001b[1;33m=\u001b[0m \u001b[0mself\u001b[0m\u001b[1;33m.\u001b[0m\u001b[0mmodel_cls\u001b[0m\u001b[1;33m(\u001b[0m\u001b[1;33m**\u001b[0m\u001b[0mkwargscopy\u001b[0m\u001b[1;33m)\u001b[0m\u001b[1;33m\u001b[0m\u001b[1;33m\u001b[0m\u001b[0m\n\u001b[0m\u001b[0;32m    164\u001b[0m         \u001b[0mself\u001b[0m\u001b[1;33m.\u001b[0m\u001b[0mrun_model\u001b[0m\u001b[1;33m(\u001b[0m\u001b[0mmodel\u001b[0m\u001b[1;33m)\u001b[0m\u001b[1;33m\u001b[0m\u001b[1;33m\u001b[0m\u001b[0m\n\u001b[0;32m    165\u001b[0m \u001b[1;33m\u001b[0m\u001b[0m\n",
      "\u001b[1;31mTypeError\u001b[0m: __init__() missing 2 required positional arguments: 'density' and 'lifetime'"
     ]
    }
   ],
   "source": [
    "param_run.run_all()"
   ]
  },
  {
   "cell_type": "code",
   "execution_count": null,
   "metadata": {},
   "outputs": [],
   "source": []
  },
  {
   "cell_type": "code",
   "execution_count": null,
   "metadata": {},
   "outputs": [],
   "source": []
  }
 ],
 "metadata": {
  "kernelspec": {
   "display_name": "Python 3",
   "language": "python",
   "name": "python3"
  },
  "language_info": {
   "codemirror_mode": {
    "name": "ipython",
    "version": 3
   },
   "file_extension": ".py",
   "mimetype": "text/x-python",
   "name": "python",
   "nbconvert_exporter": "python",
   "pygments_lexer": "ipython3",
   "version": "3.7.7"
  }
 },
 "nbformat": 4,
 "nbformat_minor": 4
}
